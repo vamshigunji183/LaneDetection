{
 "cells": [
  {
   "cell_type": "code",
   "execution_count": 1,
   "metadata": {},
   "outputs": [],
   "source": [
    "import numpy as np\n",
    "import urllib\n",
    "import cv2"
   ]
  },
  {
   "cell_type": "code",
   "execution_count": 6,
   "metadata": {},
   "outputs": [
    {
     "name": "stdout",
     "output_type": "stream",
     "text": [
      "[youtube] HECa3bAFAYk: Downloading webpage\n",
      "[youtube] HECa3bAFAYk: Downloading video info webpage\n"
     ]
    }
   ],
   "source": [
    "import cv2\n",
    "import numpy as np\n",
    "import youtube_dl\n",
    "\n",
    "if __name__ == '__main__':\n",
    "\n",
    "    video_url = 'https://www.youtube.com/watch?v=HECa3bAFAYkq'\n",
    "\n",
    "    ydl_opts = {}\n",
    "\n",
    "    # create youtube-dl object\n",
    "    ydl = youtube_dl.YoutubeDL(ydl_opts)\n",
    "\n",
    "    # set video url, extract video information\n",
    "    info_dict = ydl.extract_info(video_url, download=False)\n",
    "\n",
    "    # get video formats available\n",
    "    formats = info_dict.get('formats',None)\n",
    "\n",
    "    for f in formats:\n",
    "\n",
    "        # I want the lowest resolution, so I set resolution as 144p\n",
    "        if f.get('format_note',None) == '144p':\n",
    "\n",
    "            #get the video url\n",
    "            url = f.get('url',None)\n",
    "\n",
    "            # open url with opencv\n",
    "            cap = cv2.VideoCapture(url)\n",
    "\n",
    "            # check if url was opened\n",
    "            if not cap.isOpened():\n",
    "                print('video not opened')\n",
    "                exit(-1)\n",
    "\n",
    "            while True:\n",
    "                # read frame\n",
    "                ret, frame = cap.read()\n",
    "\n",
    "                # check if frame is empty\n",
    "                if not ret:\n",
    "                    break\n",
    "\n",
    "                # display frame\n",
    "                output = cv2.cvtColor(frame,cv2.COLOR_BGR2GRAY)\n",
    "                cv2.imshow('frame', output)\n",
    "\n",
    "                if cv2.waitKey(30)&0xFF == ord('q'):\n",
    "                    break\n",
    "\n",
    "            # release VideoCapture\n",
    "            cap.release()\n",
    "\n",
    "    cv2.destroyAllWindows()"
   ]
  },
  {
   "cell_type": "code",
   "execution_count": 4,
   "metadata": {},
   "outputs": [
    {
     "name": "stdout",
     "output_type": "stream",
     "text": [
      "[youtube] HECa3bAFAYk: Downloading webpage\n",
      "[youtube] HECa3bAFAYk: Downloading video info webpage\n"
     ]
    },
    {
     "ename": "AttributeError",
     "evalue": "module 'cv2.cv2' has no attribute 'Colorcvt'",
     "output_type": "error",
     "traceback": [
      "\u001b[1;31m---------------------------------------------------------------------------\u001b[0m",
      "\u001b[1;31mAttributeError\u001b[0m                            Traceback (most recent call last)",
      "\u001b[1;32m<ipython-input-4-98b6b1d5e841>\u001b[0m in \u001b[0;36m<module>\u001b[1;34m()\u001b[0m\n\u001b[0;32m     43\u001b[0m \u001b[1;33m\u001b[0m\u001b[0m\n\u001b[0;32m     44\u001b[0m                 \u001b[1;31m# display frame\u001b[0m\u001b[1;33m\u001b[0m\u001b[1;33m\u001b[0m\u001b[0m\n\u001b[1;32m---> 45\u001b[1;33m                 \u001b[0mcv2\u001b[0m\u001b[1;33m.\u001b[0m\u001b[0mColorcvt\u001b[0m\u001b[1;33m(\u001b[0m\u001b[0mframe\u001b[0m\u001b[1;33m,\u001b[0m\u001b[0mcv2\u001b[0m\u001b[1;33m.\u001b[0m\u001b[0mCOLOR_BGR2GRAY\u001b[0m\u001b[1;33m)\u001b[0m\u001b[1;33m\u001b[0m\u001b[0m\n\u001b[0m\u001b[0;32m     46\u001b[0m                 \u001b[0mcv2\u001b[0m\u001b[1;33m.\u001b[0m\u001b[0mimshow\u001b[0m\u001b[1;33m(\u001b[0m\u001b[1;34m'frame'\u001b[0m\u001b[1;33m,\u001b[0m \u001b[0mframe\u001b[0m\u001b[1;33m)\u001b[0m\u001b[1;33m\u001b[0m\u001b[0m\n\u001b[0;32m     47\u001b[0m \u001b[1;33m\u001b[0m\u001b[0m\n",
      "\u001b[1;31mAttributeError\u001b[0m: module 'cv2.cv2' has no attribute 'Colorcvt'"
     ]
    }
   ],
   "source": [
    "import cv2\n",
    "import numpy as np\n",
    "import youtube_dl\n",
    "\n",
    "if __name__ == '__main__':\n",
    "\n",
    "    video_url = 'https://www.youtube.com/watch?v=HECa3bAFAYkq'\n",
    "\n",
    "    ydl_opts = {}\n",
    "\n",
    "    # create youtube-dl object\n",
    "    ydl = youtube_dl.YoutubeDL(ydl_opts)\n",
    "\n",
    "    # set video url, extract video information\n",
    "    info_dict = ydl.extract_info(video_url, download=False)\n",
    "\n",
    "    # get video formats available\n",
    "    formats = info_dict.get('formats',None)\n",
    "\n",
    "    for f in formats:\n",
    "\n",
    "        # I want the lowest resolution, so I set resolution as 144p\n",
    "        if f.get('format_note',None) == '144p':\n",
    "\n",
    "            #get the video url\n",
    "            url = f.get('url',None)\n",
    "\n",
    "            # open url with opencv\n",
    "            cap = cv2.VideoCapture(url)\n",
    "\n",
    "            # check if url was opened\n",
    "            if not cap.isOpened():\n",
    "                print('video not opened')\n",
    "                exit(-1)\n",
    "\n",
    "            while True:\n",
    "                # read frame\n",
    "                ret, frame = cap.read()\n",
    "\n",
    "                # check if frame is empty\n",
    "                if not ret:\n",
    "                    break\n",
    "\n",
    "                # display frame\n",
    "                cv2.Colorcvt(frame,cv2.COLOR_BGR2GRAY)\n",
    "                cv2.imshow('frame', frame)\n",
    "\n",
    "                if cv2.waitKey(30)&0xFF == ord('q'):\n",
    "                    break\n",
    "\n",
    "            # release VideoCapture\n",
    "            cap.release()\n",
    "\n",
    "    cv2.destroyAllWindows()"
   ]
  },
  {
   "cell_type": "code",
   "execution_count": null,
   "metadata": {},
   "outputs": [],
   "source": []
  }
 ],
 "metadata": {
  "kernelspec": {
   "display_name": "Python 3",
   "language": "python",
   "name": "python3"
  },
  "language_info": {
   "codemirror_mode": {
    "name": "ipython",
    "version": 3
   },
   "file_extension": ".py",
   "mimetype": "text/x-python",
   "name": "python",
   "nbconvert_exporter": "python",
   "pygments_lexer": "ipython3",
   "version": "3.6.5"
  }
 },
 "nbformat": 4,
 "nbformat_minor": 2
}
